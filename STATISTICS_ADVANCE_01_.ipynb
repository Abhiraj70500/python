{
  "nbformat": 4,
  "nbformat_minor": 0,
  "metadata": {
    "colab": {
      "provenance": []
    },
    "kernelspec": {
      "name": "python3",
      "display_name": "Python 3"
    },
    "language_info": {
      "name": "python"
    }
  },
  "cells": [
    {
      "cell_type": "markdown",
      "source": [
        "# 1. : What is a random variable in probability theory?"
      ],
      "metadata": {
        "id": "K5VpTVUlhPRr"
      }
    },
    {
      "cell_type": "markdown",
      "source": [
        "=> A set of possible values from a random experiments."
      ],
      "metadata": {
        "id": "OgW3GNPRhXgo"
      }
    },
    {
      "cell_type": "markdown",
      "source": [
        "# 2. : What are the types of random variables?"
      ],
      "metadata": {
        "id": "1MVDnjdKhrxN"
      }
    },
    {
      "cell_type": "markdown",
      "source": [
        "=> There are two types of Random Variables.\n",
        "\n",
        "1)  Discrete Random Variables = Takes countable values.\n",
        "\n",
        "2) Continuous Random Variables = Takes uncountable values."
      ],
      "metadata": {
        "id": "wqHOzNVUhx-m"
      }
    },
    {
      "cell_type": "markdown",
      "source": [
        "# 3: Explain the difference between Discrete and Continuous distributions."
      ],
      "metadata": {
        "id": "6pjpjNFmi_2y"
      }
    },
    {
      "cell_type": "markdown",
      "source": [
        "=>** DISCRETE DISTRIBUTION** = Deals with discrete random variables (countable outcomes)\n",
        "\n",
        ">> Probability is given by a probability mass function (PMF).\n",
        "\n",
        "=>**CONTINUOUS DISTRIBUTION** = Deals with continuous random variables (uncountably infinite outcomes)\n",
        "\n",
        ">> Proobability is given by a probability density function(PDF)\n",
        "\n"
      ],
      "metadata": {
        "id": "SEQz5ROZkBF2"
      }
    },
    {
      "cell_type": "markdown",
      "source": [
        "# 4 What is a binomial distribution, and how is it used in probability?"
      ],
      "metadata": {
        "id": "7ehvmw39lIgz"
      }
    },
    {
      "cell_type": "markdown",
      "source": [
        "The Binomial Distribution helps us calculate the likelihood of getting a certain number of successes in repeated, independent yes/no experiments.\n",
        "\n",
        "**Uses in probability**\n",
        "\n",
        "Coin Tosses = If you toss a fair coin 10 times (n = 10 , p = 0.5) the probabilty of getting exactly 6 heads is given by the binomial distribution.\n"
      ],
      "metadata": {
        "id": "79oCiH-sm3AJ"
      }
    },
    {
      "cell_type": "markdown",
      "source": [
        "# 5 What is the standard normal distribution, and why is it important?"
      ],
      "metadata": {
        "id": "7rVluoqlnh5e"
      }
    },
    {
      "cell_type": "markdown",
      "source": [
        "=> The Standard Normal Distribution is a special case of the Normal Distribution.\n",
        "\n",
        ">> A normal distribution is the famous “bell-shaped curve”, symmetric around its mean.\n",
        "\n",
        ">> The standard normal distribution specifically has:\n",
        "\n",
        "Mean (\n",
        "𝜇\n",
        "μ) = 0\n",
        "\n",
        "Standard deviation (\n",
        "𝜎\n",
        "σ) = 1\n",
        "\n",
        "**Widely Used in Statistics:**\n",
        "\n",
        ">> Hypothesis testing (e.g., Z-test).\n",
        "\n",
        ">> Confidence intervals.\n",
        "\n",
        ">> Control charts in quality management."
      ],
      "metadata": {
        "id": "z1W6RChbnkY0"
      }
    },
    {
      "cell_type": "markdown",
      "source": [
        "# 6 What is the Central Limit Theorem (CLT), and why is it critical in statistics?"
      ],
      "metadata": {
        "id": "QVLi3jidY-3v"
      }
    },
    {
      "cell_type": "markdown",
      "source": [
        "=> The CLT states that if you take a large number of independent, identically distributed random variables with any finite mean and finite variance then the sampling distribution of the sample mean will approach a normal distribution as the sample size increases regardless of the shape of the original prpilation distribution.\n",
        "\n",
        "1. Foundation for inference:\n",
        "2. enables hypothesis testing:\n",
        "3. Confidence intervals:\n",
        "4. practical usefulness:\n"
      ],
      "metadata": {
        "id": "C5R6IrEwZWl4"
      }
    },
    {
      "cell_type": "markdown",
      "source": [
        "# 7. What is the significance of confidence intervals in statistical analysis?"
      ],
      "metadata": {
        "id": "3_cbMfCpasPw"
      }
    },
    {
      "cell_type": "markdown",
      "source": [
        "=> Provides a Range, not just a point estimate\n",
        "\n",
        "=> measure realiability ofestimates\n",
        "\n",
        "=> basis for decision making\n",
        "\n",
        "=> more informative than hypothesis test alone"
      ],
      "metadata": {
        "id": "q7rU4mTZbFd_"
      }
    },
    {
      "cell_type": "markdown",
      "source": [
        "# 8. : What is the concept of expected value in a probability distribution?"
      ],
      "metadata": {
        "id": "OBbJlBw5bqFf"
      }
    },
    {
      "cell_type": "markdown",
      "source": [
        "=> The expected value (also called mean or expectation) of a probability distribution is the long-run average outcome you would expect if you repeated an experiment infinitely many times."
      ],
      "metadata": {
        "id": "5XNxvScOca1C"
      }
    },
    {
      "cell_type": "markdown",
      "source": [
        "# 9. Write a Python program to generate 1000 random numbers from a normal\n",
        "# distribution with mean = 50 and standard deviation = 5. Compute its mean and standard deviation using NumPy, and draw a histogram to visualize the distribution."
      ],
      "metadata": {
        "id": "0nJ2iFw1fag3"
      }
    },
    {
      "cell_type": "code",
      "execution_count": 1,
      "metadata": {
        "id": "epOR54ARhEDz",
        "colab": {
          "base_uri": "https://localhost:8080/",
          "height": 507
        },
        "outputId": "6a8635f8-3cb8-46e4-cf71-a4ce083baa3f"
      },
      "outputs": [
        {
          "output_type": "stream",
          "name": "stdout",
          "text": [
            "Sample Mean: 49.96\n",
            "Sample Standard Deviation: 5.20\n"
          ]
        },
        {
          "output_type": "display_data",
          "data": {
            "text/plain": [
              "<Figure size 640x480 with 1 Axes>"
            ],
            "image/png": "[encoded data removed]"
          },
          "metadata": {}
        }
      ],
      "source": [
        "import numpy as np\n",
        "import matplotlib.pyplot as plt\n",
        "\n",
        "# Generate 1000 random numbers from Normal distribution (mean=50, std=5)\n",
        "data = np.random.normal(loc=50, scale=5, size=1000)\n",
        "\n",
        "# Compute mean and standard deviation\n",
        "mean = np.mean(data)\n",
        "std_dev = np.std(data)\n",
        "\n",
        "print(f\"Sample Mean: {mean:.2f}\")\n",
        "print(f\"Sample Standard Deviation: {std_dev:.2f}\")\n",
        "\n",
        "# Plot histogram\n",
        "plt.hist(data, bins=30, edgecolor='black', alpha=0.7)\n",
        "plt.title(\"Histogram of Normal Distribution (mean=50, std=5)\")\n",
        "plt.xlabel(\"Value\")\n",
        "plt.ylabel(\"Frequency\")\n",
        "plt.show()\n"
      ]
    },
    {
      "cell_type": "markdown",
      "source": [
        "# 10. You are working as a data analyst for a retail company. The company has\n",
        "# collected daily sales data for 2 years and wants you to identify the overall sales trend.\n",
        "# daily_sales = [220, 245, 210, 265, 230, 250, 260, 275, 240, 255,\n",
        "# 235, 260, 245, 250, 225, 270, 265, 255, 250, 260]\n",
        "# ● Explain how you would apply the Central Limit Theorem to estimate the average sales\n",
        "# with a 95% confidence interval.\n",
        "# ● Write the Python code to compute the mean sales and its confidence interval."
      ],
      "metadata": {
        "id": "FYp72Vjoilup"
      }
    },
    {
      "cell_type": "code",
      "source": [
        "import numpy as np\n",
        "import scipy.stats as stats\n",
        "\n",
        "# Daily sales data\n",
        "daily_sales = [220, 245, 210, 265, 230, 250, 260, 275, 240, 255,\n",
        "               235, 260, 245, 250, 225, 270, 265, 255, 250, 260]\n",
        "\n",
        "# Convert to NumPy array\n",
        "data = np.array(daily_sales)\n",
        "\n",
        "# Sample statistics\n",
        "mean_sales = np.mean(data)\n",
        "std_sales = np.std(data, ddof=1)  # sample standard deviation\n",
        "n = len(data)\n",
        "\n",
        "# Standard error\n",
        "se = std_sales / np.sqrt(n)\n",
        "\n",
        "# 95% confidence interval using t-distribution\n",
        "confidence = 0.95\n",
        "t_score = stats.t.ppf(1 - (1-confidence)/2, df=n-1)\n",
        "ci_lower = mean_sales - t_score * se\n",
        "ci_upper = mean_sales + t_score * se\n",
        "\n",
        "print(f\"Mean Sales: {mean_sales:.2f}\")\n",
        "print(f\"95% Confidence Interval: ({ci_lower:.2f}, {ci_upper:.2f})\")\n"
      ],
      "metadata": {
        "colab": {
          "base_uri": "https://localhost:8080/"
        },
        "id": "LxATMOYYifr3",
        "outputId": "cf967528-b166-4dd4-df7f-00520ca70e6b"
      },
      "execution_count": 2,
      "outputs": [
        {
          "output_type": "stream",
          "name": "stdout",
          "text": [
            "Mean Sales: 248.25\n",
            "95% Confidence Interval: (240.17, 256.33)\n"
          ]
        }
      ]
    },
    {
      "cell_type": "code",
      "source": [],
      "metadata": {
        "id": "t7IKH0hgi96Y"
      },
      "execution_count": null,
      "outputs": []
    }
  ]
}