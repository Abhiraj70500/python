{
  "nbformat": 4,
  "nbformat_minor": 0,
  "metadata": {
    "colab": {
      "provenance": []
    },
    "kernelspec": {
      "name": "python3",
      "display_name": "Python 3"
    },
    "language_info": {
      "name": "python"
    }
  },
  "cells": [
    {
      "cell_type": "markdown",
      "source": [
        "# **Theoretical question**"
      ],
      "metadata": {
        "id": "I4e1kuQ4DBD8"
      }
    },
    {
      "cell_type": "markdown",
      "source": [
        "# Q 1. *What is Python, and why is it popular ?*\n",
        "\n",
        "ans. Python is a high-level, versatile programming language known for its readability and ease of use. It's popular because it's beginner-friendly, can be used for a wide range of tasks, and has a large, supportive community."
      ],
      "metadata": {
        "id": "POLGFf4dDYUv"
      }
    },
    {
      "cell_type": "markdown",
      "source": [
        "# Q 2. What is an interpreter in Python ?\n",
        "\n",
        "Ans. In Python, an interpreter is a program that executes Python code directly, without needing to compile it into machine code first"
      ],
      "metadata": {
        "id": "S7aSbTEGDaVK"
      }
    },
    {
      "cell_type": "markdown",
      "source": [
        "#Q 3. What are pre-defined keywords in Python ?\n",
        "\n",
        " **ans. Predefined keywords in Python are reserved words that have special meanings and functionalities within the language. These words are integral to Python's syntax and structure, and they cannot be used as identifiers (e.g., variable names, function names, class names) because they have a specific purpose defined by the language. **"
      ],
      "metadata": {
        "id": "343Ys5BpEPpk"
      }
    },
    {
      "cell_type": "markdown",
      "source": [
        "#Q 4. Can keywords be used as variable names ?\n",
        "\n",
        "ans.   No, keywords cannot be used as variable names. Keywords are reserved words in a programming language that have predefined meanings and are used to define the language's syntax and structure. Using them as variable names would lead to syntax errors because the compiler or interpreter would interpret them as language keywords rather than variable names.\n",
        "Explanation:\n",
        "                Keywords have special meanings:\n",
        "Keywords like \"if,\" \"else,\" \"for,\" \"while,\" \"int,\" \"float,\" etc., have specific purposes within the programming language. They are used to define control flow, data types, and other fundamental language constructs.\n",
        "                Reserved for the language:\n",
        "Keywords are reserved by the language itself and cannot be used for any other purpose, such as naming variables, functions, or other identifiers.\n",
        "Syntax errors:\n",
        "If you attempt to use a keyword as a variable name, the compiler or interpreter will flag it as an error because it conflicts with the language's syntax rules.\n",
        "              Example:\n",
        "In Python, you cannot name a variable \"if\" or \"for\" because these are keywords. Similarly, in Java, you cannot name a variable \"public\" or \"static\"."
      ],
      "metadata": {
        "id": "AE5Zgb-sEr_7"
      }
    },
    {
      "cell_type": "markdown",
      "source": [
        "# Q 5. What is mutability in Python ?\n",
        "\n",
        " ans.  In Python, mutability refers to the ability of an object to be changed or modified after it has been created. If an object is mutable, its content or state can be altered without creating a new object in memory."
      ],
      "metadata": {
        "id": "ahDHNnW-GfDM"
      }
    },
    {
      "cell_type": "markdown",
      "source": [
        "#Q 6.  Why are lists mutable, but tuples are immutable\n",
        "\n",
        " ans. The core diffrent between Python lists and tuples lies in their mutability:\n",
        "Lists are mutable:\n",
        "This means that once a list is created, its elements can be added, removed, or modified in place without creating a new list object. This behavior is supported by various list methods like append(), insert(), remove(), and direct item assignment using indexing (my_list[index] = new_value).\n",
        "          Tuples are immutable:\n",
        "In contrast, once a tuple is created, its elements cannot be changed, added, or removed. Any operation that appears to modify a tuple, such as concatenating or slicing, actually results in the creation of a new tuple object with the desired changes, leaving the original tuple unchanged. This immutability is enforced by the absence of methods that would allow in-place modification and by the fundamental design of the tuple data structure."
      ],
      "metadata": {
        "id": "4k-azATwHXmC"
      }
    },
    {
      "cell_type": "markdown",
      "source": [
        "#Q 7.  What is the difference between “==” and “is” operators in Python ?\n",
        "\n",
        "ans. In Python, the == and is operators are used for comparison, but they serve distinct purposes:\n",
        "\n",
        "== (Equality Operator):\n",
        "The == operator compares the values of two objects. It checks if the content or data held by the objects are the same.\n",
        "This operator can be overloaded by classes using the __eq__ method, allowing custom definitions of what constitutes equality for instances of that class.\n",
        "\n",
        "is (Identity Operator):\n",
        "The is operator compares the identity of two objects. It checks if two variables refer to the exact same object in memory.\n",
        "This means it determines if two variables point to the same memory location, essentially checking if they are the same instance of an object.\n",
        "The is operator cannot be overloaded.\n",
        "\n"
      ],
      "metadata": {
        "id": "K_OUpnjEJHJy"
      }
    },
    {
      "cell_type": "markdown",
      "source": [
        "#Q 8. What are logical operators in Python ?\n",
        "\n",
        "ans. Logical operators in Python are used to combine conditional statements and evaluate expressions based on Boolean logic. They return a Boolean value (True or False) as a result.\n",
        "\n",
        "There are three primary logical operators in Python:\n",
        "\n",
        "and (Logical AND):\n",
        "Returns True if both operands are True.\n",
        "Returns False if at least one operand is False.\n",
        "Example: (x > 5) and (y < 10) would be True only if x is greater than 5 AND y is less than 10.\n",
        "\n",
        "or (Logical OR):\n",
        "Returns True if at least one operand is True.\n",
        "Returns False only if both operands are False.\n",
        "Example: (is_sunny) or (has_umbrella) would be True if it's sunny OR you have an umbrella (or both).\n",
        "\n",
        "not (Logical NOT):\n",
        "Returns the inverse of the operand's Boolean value.\n",
        "If the operand is True, not returns False.\n",
        "If the operand is False, not returns True.\n",
        "Example: not is_raining would be True if it is NOT raining.\n"
      ],
      "metadata": {
        "id": "yJSRsYsFJwAK"
      }
    },
    {
      "cell_type": "markdown",
      "source": [
        "#Q 9. What is type casting in Python ?\n",
        "\n",
        "ans. Type casting in Python, also known as type conversion, is the process of converting a value from one data type to another. This is often necessary when performing operations that require specific data types or when data needs to be presented in a different format.\n",
        "\n",
        ":-There are two main types of type casting in Python:\n",
        "\n",
        "Implicit Type Conversion (Coercion): This occurs automatically by the Python interpreter without explicit user intervention. Python performs implicit conversions to avoid data loss, such as converting an integer to a float when performing an arithmetic operation between an integer and a float.\n",
        "\n"
      ],
      "metadata": {
        "id": "u-BIICdPKu31"
      }
    },
    {
      "cell_type": "markdown",
      "source": [
        "#Q 10. What is the difference between implicit and explicit type casting ?\n",
        "\n",
        "ans. In Python, type casting, also known as type conversion, refers to the process of changing the data type of a value. There are two main types: implicit and explicit.\n",
        "\n",
        "Implicit Type Casting (Coercion)\n",
        "\n",
        "Automatic Conversion: Implicit type casting is performed automatically by the Python interpreter without any explicit instruction from the programmer.\n",
        "Data Preservation: Python typically performs implicit conversions to prevent data loss, converting to the \"higher\" or more general data type in an operation. For example, when an integer and a float are involved in an operation, the integer is implicitly converted to a float before the operation is performed.\n",
        "\n",
        "Explicit Type Casting (Type Conversion)\n",
        "\n",
        "Manual Conversion:\n",
        "Explicit type casting is performed by the programmer using built-in functions to explicitly convert a value from one data type to another.\n",
        "User Control:\n",
        "This method provides direct control over the type conversion process, allowing the programmer to specify the desired target type.\n",
        "Potential Data Loss:\n",
        "Explicit conversion can sometimes lead to data loss if the target type cannot fully represent the original value (e.g., converting a float to an integer truncates the decimal part).\n"
      ],
      "metadata": {
        "id": "lGd7DBqoLi7w"
      }
    },
    {
      "cell_type": "markdown",
      "source": [
        "#Q 11.  What is the purpose of conditional statements in Python ?\n",
        "\n",
        "ans. The purpose of conditional statements in Python is to control the flow of execution in a program based on whether certain conditions are met. These statements enable decision-making within the code, allowing different blocks of instructions to be executed depending on the evaluation of a condition as true or false.\n",
        "\n",
        "Specifically, conditional statements facilitate:\n",
        "\n",
        "Decision Making:-\n",
        "They allow the program to make choices and execute specific code paths based on dynamic conditions or user input.\n",
        "Conditional Execution:-\n",
        "They ensure that certain blocks of code are only executed when a specified condition is satisfied.\n",
        "Handling Multiple Scenarios:-\n",
        "They provide a mechanism to handle various possibilities and execute different actions accordingly.\n",
        "\n",
        "The primary types of conditional statements in Python are:-\n",
        "if statement: Executes a block of code only if a given condition is true.\n",
        "if-else statement: Executes one block of code if a condition is true, and a different block if the condition is false.\n",
        "if-elif-else statement: Allows for checking multiple conditions sequentially and executing the corresponding block of code for the first true condition, with an optional else block for when none of the preceding conditions are true.\n"
      ],
      "metadata": {
        "id": "LBYFimvHMSRT"
      }
    },
    {
      "cell_type": "markdown",
      "source": [
        "#Q 12.  How does the elif statement work ?\n",
        "\n",
        "ans. In Python, the elif keyword stands for \"else if\" and is used to check multiple conditions in a clean, sequential way—only one block within an if...elif...else chain executes:\n",
        "\n",
        "if condition1:\n",
        "    # block A\n",
        "elif condition2:\n",
        "    # block B\n",
        "elif condition3:\n",
        "    # block C\n",
        "else:\n",
        "    # block D\n"
      ],
      "metadata": {
        "id": "6DtRYQsqO1IS"
      }
    },
    {
      "cell_type": "markdown",
      "source": [
        "#Q 13. What is the difference between for and while loops ?\n",
        "\n",
        "ans. The main difference between for and while loops lies in their structure and typical usage. For loops are used when you know the number of iterations beforehand, while while loops are used when the number of iterations is unknown and depends on a condition being met.\n",
        "\n",
        "🔁 for Loop — Looping a known number of times\n",
        "Used when you know in advance how many times you want to loop.\n",
        "\n",
        "Iterates over a sequence like a list, string, or range\n",
        "\n",
        "✅ Example:\n",
        "for i in range(5):\n",
        "    print(i)\n",
        "Output:\n",
        "0\n",
        "1\n",
        "2\n",
        "3\n",
        "4\n",
        "🔹 Loops 5 times (from 0 to 4).\n",
        "\n",
        "while Loop — Looping until a condition is false\n",
        "Used when you don’t know in advance how many times to loop.\n",
        "\n",
        "Repeats as long as a condition is True.\n",
        "✅ Example:\n",
        "i = 0\n",
        "while i < 5:\n",
        "    print(i)\n",
        "    i += 1\n",
        "Output:\n",
        "0\n",
        "1\n",
        "2\n",
        "3\n",
        "4\n",
        "🔹 Keeps going until i < 5 is no longer true."
      ],
      "metadata": {
        "id": "T0t8bxwwP9N3"
      }
    },
    {
      "cell_type": "markdown",
      "source": [
        "#Q 14. Describe a scenario where a while loop is more suitable than a for loop.\n",
        "\n",
        "ans.A while loop is most suitable when you don't know in advance how many times you’ll need to repeat an action — only that it should continue until a condition changes.\n",
        "\n",
        "✅ Example Scenario: User Input Validation\n",
        "Imagine prompting a user for a password until they enter the correct one (or fail after a few attempts):\n",
        "correct_password = \"python123\"\n",
        "attempts = 0\n",
        "\n",
        "while attempts < 3:\n",
        "    password = input(\"Enter password: \")\n",
        "    if password == correct_password:\n",
        "        print(\"Access granted.\")\n",
        "        break\n",
        "    else:\n",
        "        print(\"Wrong password.\")\n",
        "        attempts += 1\n",
        "\n",
        "if attempts == 3:\n",
        "    print(\"Too many attempts. Access denied.\")\n",
        "This is a case where you don’t know how many invalid attempts the user will make — a classic scenario for using a while loop\n",
        "\n",
        "🔄 Another Scenario: Random Process Until a Target Is Reached\n",
        "Suppose you need to keep generating random numbers until you hit a specific value:\n",
        "import random\n",
        "\n",
        "attempts = 0\n",
        "while True:\n",
        "    num = random.randint(1, 10)\n",
        "    attempts += 1\n",
        "    if num == 5:\n",
        "        print(f\"Hit 5 after {attempts} attempts\")\n",
        "        break\n",
        "You don’t know ahead of time how many tries this will take. Wrapping it in a fixed-range for loop would require guessing the range and then breaking out manually\n",
        "\n"
      ],
      "metadata": {
        "id": "P0u-EcjnRFUY"
      }
    },
    {
      "cell_type": "markdown",
      "source": [
        "# *** practical Question***"
      ],
      "metadata": {
        "id": "R5Q9oj5qSDHe"
      }
    },
    {
      "cell_type": "markdown",
      "source": [
        "#Q1. Write a Python program to print \"Hello, World!\n"
      ],
      "metadata": {
        "id": "vwd7UUvRhlVE"
      }
    },
    {
      "cell_type": "code",
      "source": [
        "print(\"Hello world\")"
      ],
      "metadata": {
        "colab": {
          "base_uri": "https://localhost:8080/"
        },
        "id": "GiSU1DtqThit",
        "outputId": "9d9adaba-b972-4c64-a4c8-1eccce593230"
      },
      "execution_count": 3,
      "outputs": [
        {
          "output_type": "stream",
          "name": "stdout",
          "text": [
            "Hello world\n"
          ]
        }
      ]
    },
    {
      "cell_type": "markdown",
      "source": [
        "#Q 2. Write a Python program that displays your name and age"
      ],
      "metadata": {
        "id": "I3oTM493hsXi"
      }
    },
    {
      "cell_type": "code",
      "source": [
        "name = \"Abhishek kumar\"\n",
        "age = 23\n",
        "print(f\"my name is {name}\")\n",
        "print(f\"i am {age} years old\")\n",
        ""
      ],
      "metadata": {
        "colab": {
          "base_uri": "https://localhost:8080/"
        },
        "id": "4S-MyBSITfDM",
        "outputId": "acf3b01c-36f6-4aad-9b6c-b77c3d654f29"
      },
      "execution_count": 6,
      "outputs": [
        {
          "output_type": "stream",
          "name": "stdout",
          "text": [
            "my name is Abhishek kumar\n",
            "i am 23 years old\n"
          ]
        }
      ]
    },
    {
      "cell_type": "markdown",
      "source": [
        "#Q 3. Write code to print all the pre-defined keywords in Python using the keyword library\n"
      ],
      "metadata": {
        "id": "rJ8osYMZiTjZ"
      }
    },
    {
      "cell_type": "code",
      "source": [
        "import keyword\n",
        "print(\"pre-defined keywords in python:-\")\n",
        "print(keyword.kwlist)"
      ],
      "metadata": {
        "colab": {
          "base_uri": "https://localhost:8080/"
        },
        "id": "40bQ4XQTidBo",
        "outputId": "d787c6e3-6de9-4224-858b-213e20abd1e5"
      },
      "execution_count": 7,
      "outputs": [
        {
          "output_type": "stream",
          "name": "stdout",
          "text": [
            "pre-defined keywords in python:-\n",
            "['False', 'None', 'True', 'and', 'as', 'assert', 'async', 'await', 'break', 'class', 'continue', 'def', 'del', 'elif', 'else', 'except', 'finally', 'for', 'from', 'global', 'if', 'import', 'in', 'is', 'lambda', 'nonlocal', 'not', 'or', 'pass', 'raise', 'return', 'try', 'while', 'with', 'yield']\n"
          ]
        }
      ]
    },
    {
      "cell_type": "markdown",
      "source": [
        "#Q 4. Write a program that checks if a given word is a Python keyword."
      ],
      "metadata": {
        "id": "GTq_tl51ik7B"
      }
    },
    {
      "cell_type": "code",
      "source": [
        "import keyword\n",
        "\n",
        "word = input(\"Enter the keyword: \")\n",
        "\n",
        "if keyword.iskeyword(word):\n",
        "    print(f\"'{word}' is a Python keyword.\")\n",
        "else:\n",
        "    print(f\"'{word}' is not a Python keyword.\")"
      ],
      "metadata": {
        "colab": {
          "base_uri": "https://localhost:8080/"
        },
        "id": "KO7lO68qisDA",
        "outputId": "2ee51ade-eb8e-43a1-96c8-27d7bf33eeff"
      },
      "execution_count": 8,
      "outputs": [
        {
          "output_type": "stream",
          "name": "stdout",
          "text": [
            "Enter the keyword: True\n",
            "'True' is a Python keyword.\n"
          ]
        }
      ]
    },
    {
      "cell_type": "markdown",
      "source": [
        "#Q5. Create a list and tuple in Python, and demonstrate how attempting to change an element works differently for each"
      ],
      "metadata": {
        "id": "50hFOL_3jMwV"
      }
    },
    {
      "cell_type": "code",
      "source": [
        "list1 = [20, 10, \"Ram\", 35]\n",
        "tuple1 = (15, \"shiva\", 26)\n",
        "\n",
        "#attempting to change an element in a list\n",
        "\n",
        "print(f\"Original List is : {list1}\")\n",
        "\n",
        "list1[2] = 15\n",
        "print(f\"updated list is : {list1}\")\n",
        "\n",
        "#attempting to change an element in a tuple\n",
        "\n",
        "print(f\"Original Tuple is : {tuple1}\")\n",
        "\n",
        "try:\n",
        "  tuple1[2] = 16\n",
        "except TypeError as e:\n",
        "  print(f\"Error attempting to modify tuple is: {e}\")"
      ],
      "metadata": {
        "colab": {
          "base_uri": "https://localhost:8080/"
        },
        "id": "QJ0flDXljQaj",
        "outputId": "7d1e1904-823b-4fcd-890e-2807281e0709"
      },
      "execution_count": 9,
      "outputs": [
        {
          "output_type": "stream",
          "name": "stdout",
          "text": [
            "Original List is : [20, 10, 'Ram', 35]\n",
            "updated list is : [20, 10, 15, 35]\n",
            "Original Tuple is : (15, 'shiva', 26)\n",
            "Error attempting to modify tuple is: 'tuple' object does not support item assignment\n"
          ]
        }
      ]
    },
    {
      "cell_type": "markdown",
      "source": [
        "#Q6. Write a function to demonstrate the behavior of mutable and immutable arguments.\n"
      ],
      "metadata": {
        "id": "qYhBft7oji7z"
      }
    },
    {
      "cell_type": "code",
      "source": [
        "\n",
        "def demonstrate_mutability(num1, list1):\n",
        "    print(\"Before modification:\")\n",
        "    print(f\"  num1 = {num1}, id: {id(num1)}\")\n",
        "    print(f\"  list1 = {list1}, id: {id(list1)}\")\n",
        "\n",
        "    # Attempting to modify the arguments\n",
        "    num1 += 10\n",
        "    list1.append(10)\n",
        "\n",
        "    print(\"After modification:\")\n",
        "    print(f\"  num1 = {num1}, id: {id(num1)}\")\n",
        "    print(f\"  list1 = {list1}, id: {id(list1)}\")\n",
        "\n",
        "# Immutable integer\n",
        "x = 5\n",
        "\n",
        "# Mutable list\n",
        "y = [1, 2, 3]\n",
        "\n",
        "demonstrate_mutability(x, y)\n",
        "\n",
        "print(\"Outside the function:\")\n",
        "print(f\"  x = {x}, id: {id(x)}\")       # Still 5, unchanged (immutable)\n",
        "print(f\"  y = {y}, id: {id(y)}\")       # Modified to include 10 (mutable)"
      ],
      "metadata": {
        "colab": {
          "base_uri": "https://localhost:8080/"
        },
        "id": "vplejG4AjsZZ",
        "outputId": "7a03e8de-758d-412e-dcfd-091784004926"
      },
      "execution_count": 10,
      "outputs": [
        {
          "output_type": "stream",
          "name": "stdout",
          "text": [
            "Before modification:\n",
            "  num1 = 5, id: 10757864\n",
            "  list1 = [1, 2, 3], id: 134474367141056\n",
            "After modification:\n",
            "  num1 = 15, id: 10758184\n",
            "  list1 = [1, 2, 3, 10], id: 134474367141056\n",
            "Outside the function:\n",
            "  x = 5, id: 10757864\n",
            "  y = [1, 2, 3, 10], id: 134474367141056\n"
          ]
        }
      ]
    },
    {
      "cell_type": "markdown",
      "source": [
        "#Q7. Write a program that performs basic arithmetic operations on two user-input numbers.\n"
      ],
      "metadata": {
        "id": "XcqTd8vhkLDw"
      }
    },
    {
      "cell_type": "code",
      "source": [
        "a = int(input(\"enter first number: \"))\n",
        "b = int(input(\"enter second number: \"))\n",
        "\n",
        "# Arithmetic operations on two user-input numbers.\n",
        "\n",
        "print(\"select the arithmetic operation\")\n",
        "print(\"1 for addition\")\n",
        "print(\"2 for subtraction\")\n",
        "print(\"3 for multiplication\")\n",
        "print(\"4 for division\")\n",
        "\n",
        "choice = input(f\"enter choice 1/2/3/4 : \")\n",
        "\n",
        "if choice == '1':\n",
        "  print(f\"addition of these numbers is {a+b}\")\n",
        "elif choice == '2':\n",
        "  print(f\"subtraction of these numbers is {a-b}\")\n",
        "elif choice == '3':\n",
        "  print(f\"multiplication of these numbers is {a*b}\")\n",
        "elif choice == '4':\n",
        "  print(f\"division of these numbers is {a/b}\")\n",
        "else:\n",
        "  print(\"enter choice 1/2/3/4 for arithmetical operation\")"
      ],
      "metadata": {
        "colab": {
          "base_uri": "https://localhost:8080/"
        },
        "id": "vRsbI5nckORZ",
        "outputId": "1414e673-39e6-44f0-f888-a35cf2114477"
      },
      "execution_count": 11,
      "outputs": [
        {
          "output_type": "stream",
          "name": "stdout",
          "text": [
            "enter first number: 20\n",
            "enter second number: 30\n",
            "select the arithmetic operation\n",
            "1 for addition\n",
            "2 for subtraction\n",
            "3 for multiplication\n",
            "4 for division\n",
            "enter choice 1/2/3/4 : 2\n",
            "subtraction of these numbers is -10\n"
          ]
        }
      ]
    },
    {
      "cell_type": "markdown",
      "source": [
        "#Q8. Write a program to demonstrate the use of logical operators."
      ],
      "metadata": {
        "id": "xnIoyDjFkkZz"
      }
    },
    {
      "cell_type": "code",
      "source": [
        "'''The 'and' operator print only when both the condition follow\n",
        "   The 'or' operator print when any of the one condition follow\n",
        "   The 'and' operator reverse the conditions of 'and' and 'or' '''\n",
        "print(\"Operation of 'and' operator\")\n",
        "\n",
        "a = int(input(\"enter value of first number: \"))\n",
        "b = int(input(\"enter value of second number: \"))\n",
        "\n",
        "if a > 0 and b > 0:\n",
        "    print(\"The numbers are greater than 0\")\n",
        "else:\n",
        "  print(\"Either one or both of the number is less than 0\")\n",
        "\n",
        "print(\"Operation of 'or' operator\")\n",
        "\n",
        "d = int(input(\"enter value of first number: \"))\n",
        "e = int(input(\"enter value of second number: \"))\n",
        "\n",
        "if d > 0 or e > 0:\n",
        "  print(\"Either one or both of the number is greater than 0\")\n",
        "else:\n",
        "  print(\"both of the numbers are less than 0\")\n",
        "\n",
        "print(\"Operation of 'not' operator\")\n",
        "\n",
        "f = int(input(\"enter value of first number: \"))\n",
        "g = int(input(\"enter value of second number: \"))\n",
        "\n",
        "if not a >= b:\n",
        "  print(\"a is less than or equal to b\")\n",
        "elif not a < b:\n",
        "  print(\"a is greater than b\")"
      ],
      "metadata": {
        "colab": {
          "base_uri": "https://localhost:8080/"
        },
        "id": "DxMDJRqyknjS",
        "outputId": "069c2ca9-bb97-4fae-d813-b0a2fbad6236"
      },
      "execution_count": 14,
      "outputs": [
        {
          "output_type": "stream",
          "name": "stdout",
          "text": [
            "Operation of 'and' operator\n",
            "enter value of first number: 10\n",
            "enter value of second number: 20\n",
            "The numbers are greater than 0\n",
            "Operation of 'or' operator\n",
            "enter value of first number: 10\n",
            "enter value of second number: 0\n",
            "Either one or both of the number is greater than 0\n",
            "Operation of 'not' operator\n",
            "enter value of first number: 0\n",
            "enter value of second number: 19\n",
            "a is less than or equal to b\n"
          ]
        }
      ]
    },
    {
      "cell_type": "markdown",
      "source": [
        "#Q9. Write a Python program to convert user input from string to integer, float, and boolean types.\n"
      ],
      "metadata": {
        "id": "5RDB_Hd8lWGw"
      }
    },
    {
      "cell_type": "code",
      "source": [
        "a = input(\"enter a value: \")\n",
        "\n",
        "print(\"choose 1 for type conversion to integer\")\n",
        "print(\"choose 2 for type conversion to float\")\n",
        "print(\"choose 3 for type conversion to bolean\")\n",
        "\n",
        "choice = int(input(\"enter your choice:- \"))\n",
        "\n",
        "if choice == 1:\n",
        "  b = int(a)\n",
        "  print(f\"original_value: {a}, updated_value: {b}\")\n",
        "  print(f\"original_type: {type(a)}, updated_type: {type(b)}\")\n",
        "\n",
        "elif choice == 2:\n",
        "  b = float(a)\n",
        "  print(f\"original_value: {a}, updated_value: {b}\")\n",
        "  print(f\"original_type: {type(a)}, updated_type: {type(b)}\")\n",
        "\n",
        "elif choice == 3:\n",
        "  b = bool(a)\n",
        "  print(f\"original_value: {a}, updated_value: {b}\")\n",
        "  print(f\"original_type: {type(a)}, updated_type: {type(b)}\")\n",
        "\n",
        "else:\n",
        "  print(\"Enter choice among 1/2/3\")"
      ],
      "metadata": {
        "colab": {
          "base_uri": "https://localhost:8080/"
        },
        "id": "yXk8-eMYlaJh",
        "outputId": "08336a66-1481-4dc4-e992-ad915bd33668"
      },
      "execution_count": 15,
      "outputs": [
        {
          "output_type": "stream",
          "name": "stdout",
          "text": [
            "enter a value: 17\n",
            "choose 1 for type conversion to integer\n",
            "choose 2 for type conversion to float\n",
            "choose 3 for type conversion to bolean\n",
            "enter your choice:- 2\n",
            "original_value: 17, updated_value: 17.0\n",
            "original_type: <class 'str'>, updated_type: <class 'float'>\n"
          ]
        }
      ]
    },
    {
      "cell_type": "markdown",
      "source": [
        "#Q10. Write code to demonstrate type casting with list elements."
      ],
      "metadata": {
        "id": "oI8nkiFglpDo"
      }
    },
    {
      "cell_type": "code",
      "source": [
        "# Convert a list of integers to a list of strings\n",
        "int_list = [1, 2, 3, 4]\n",
        "str_list = list(map(str, int_list))\n",
        "print(f\"Original integer list: {int_list}, type: {[type(item) for item in int_list]}\")\n",
        "print(f\"Converted string list: {str_list}, type: {[type(item) for item in str_list]}\")\n",
        "\n",
        "# Convert a list of strings (representing numbers) to a list of integers\n",
        "string_num_list = [\"5\", \"6\", \"7\", \"8\"]\n",
        "integer_list = list(map(int, string_num_list))\n",
        "print(f\"Original string number list: {string_num_list}, type: {[type(item) for item in string_num_list]}\")\n",
        "print(f\"Converted integer list: {integer_list}, type: {[type(item) for item in integer_list]}\")\n",
        "\n",
        "# Convert a list of integers to a list of floats\n",
        "another_int_list = [9, 10, 11]\n",
        "float_list = list(map(float, another_int_list))\n",
        "print(f\"Original integer list: {another_int_list}, type: {[type(item) for item in another_int_list]}\")\n",
        "print(f\"Converted float list: {float_list}, type: {[type(item) for item in float_list]}\")\n",
        ""
      ],
      "metadata": {
        "colab": {
          "base_uri": "https://localhost:8080/"
        },
        "id": "jL27p8UpluxE",
        "outputId": "fbd236d3-50f4-4661-b813-f0c122f01897"
      },
      "execution_count": 16,
      "outputs": [
        {
          "output_type": "stream",
          "name": "stdout",
          "text": [
            "Original integer list: [1, 2, 3, 4], type: [<class 'int'>, <class 'int'>, <class 'int'>, <class 'int'>]\n",
            "Converted string list: ['1', '2', '3', '4'], type: [<class 'str'>, <class 'str'>, <class 'str'>, <class 'str'>]\n",
            "Original string number list: ['5', '6', '7', '8'], type: [<class 'str'>, <class 'str'>, <class 'str'>, <class 'str'>]\n",
            "Converted integer list: [5, 6, 7, 8], type: [<class 'int'>, <class 'int'>, <class 'int'>, <class 'int'>]\n",
            "Original integer list: [9, 10, 11], type: [<class 'int'>, <class 'int'>, <class 'int'>]\n",
            "Converted float list: [9.0, 10.0, 11.0], type: [<class 'float'>, <class 'float'>, <class 'float'>]\n"
          ]
        }
      ]
    },
    {
      "cell_type": "markdown",
      "source": [
        "#Q11. Write a program that checks if a number is positive, negative, or zero."
      ],
      "metadata": {
        "id": "FPS98gQzl4Xy"
      }
    },
    {
      "cell_type": "code",
      "source": [
        "taken_number1 = int(input(\"enter a number: \"))\n",
        "\n",
        "#for the positive number\n",
        "\n",
        "if taken_number1 > 0:\n",
        "  print(f\"{taken_number1} is a positive number\")\n",
        "\n",
        "#for the negative number\n",
        "\n",
        "elif taken_number1 < 0:\n",
        "  print(f\"{taken_number1} is a negative number\")\n",
        "\n",
        "#for the zero\n",
        "\n",
        "else:\n",
        "  print(f\"{taken_number1} is zero\")"
      ],
      "metadata": {
        "colab": {
          "base_uri": "https://localhost:8080/"
        },
        "id": "_DtUPNvSl8DC",
        "outputId": "7fa7b6ab-9d48-4c05-b188-672519f5374f"
      },
      "execution_count": 20,
      "outputs": [
        {
          "output_type": "stream",
          "name": "stdout",
          "text": [
            "enter a number: 15\n",
            "15 is a positive number\n"
          ]
        }
      ]
    },
    {
      "cell_type": "markdown",
      "source": [
        "#Q12. Write a for loop to print numbers from 1 to 10."
      ],
      "metadata": {
        "id": "FNlCtBiomFCI"
      }
    },
    {
      "cell_type": "code",
      "source": [
        "for i in range(1, 10):\n",
        "  print(i)"
      ],
      "metadata": {
        "colab": {
          "base_uri": "https://localhost:8080/"
        },
        "id": "axrBxaTYmIro",
        "outputId": "7c35731b-69dd-4ffb-a7bd-974776340dfe"
      },
      "execution_count": 19,
      "outputs": [
        {
          "output_type": "stream",
          "name": "stdout",
          "text": [
            "1\n",
            "2\n",
            "3\n",
            "4\n",
            "5\n",
            "6\n",
            "7\n",
            "8\n",
            "9\n"
          ]
        }
      ]
    },
    {
      "cell_type": "markdown",
      "source": [
        "#Q13. Write a Python program to find the sum of all even numbers between 1 and 50."
      ],
      "metadata": {
        "id": "NHWo5VDjmVt5"
      }
    },
    {
      "cell_type": "code",
      "source": [
        "# Python Program: Sum of Even Numbers Between 1 and 50\n",
        "\n",
        "def sum_even_numbers():\n",
        "    total = 0\n",
        "    for number in range(1, 51):\n",
        "        if number % 2 == 0:\n",
        "            total += number\n",
        "    return total\n",
        "\n",
        "# Display the result\n",
        "print(\"Sum of even numbers from 1 to 50 is:\", sum_even_numbers())"
      ],
      "metadata": {
        "colab": {
          "base_uri": "https://localhost:8080/"
        },
        "id": "69VFs99LmbyS",
        "outputId": "86aff178-7f4b-4950-8c7c-45a7aae9e8d3"
      },
      "execution_count": 21,
      "outputs": [
        {
          "output_type": "stream",
          "name": "stdout",
          "text": [
            "Sum of even numbers from 1 to 50 is: 650\n"
          ]
        }
      ]
    },
    {
      "cell_type": "markdown",
      "source": [
        "#Q14. Write a program to reverse a string using a while loop."
      ],
      "metadata": {
        "id": "Lcrd_3xympnQ"
      }
    },
    {
      "cell_type": "code",
      "source": [
        "string = \"My name is abhishek kumar\"\n",
        "print(type(string))\n",
        "print(f\"Original string: {string}\")\n",
        "\n",
        "\n",
        "reverse_string = string[::-1]\n",
        "print(f\"reverze string: {reverse_string}\")"
      ],
      "metadata": {
        "colab": {
          "base_uri": "https://localhost:8080/"
        },
        "id": "etzRhbgCmu1y",
        "outputId": "f2a2f612-ee18-4cd6-f299-68ebd786ac5e"
      },
      "execution_count": 23,
      "outputs": [
        {
          "output_type": "stream",
          "name": "stdout",
          "text": [
            "<class 'str'>\n",
            "Original string: My name is abhishek kumar\n",
            "reverze string: ramuk kehsihba si eman yM\n"
          ]
        }
      ]
    },
    {
      "cell_type": "markdown",
      "source": [
        "#Q15. Write a Python program to calculate the factorial of a number provided by the user using a while loop."
      ],
      "metadata": {
        "id": "aACUWKhBnBWa"
      }
    },
    {
      "cell_type": "code",
      "source": [
        "try:\n",
        "    num = int(input(\"Enter a non-negative integer to calculate its factorial: \"))\n",
        "except ValueError:\n",
        "    print(\"Invalid input. Please enter an integer.\")\n",
        "else:\n",
        "        factorial = 1\n",
        "        # Initialize a counter for the while loop\n",
        "        i = 1\n",
        "\n",
        "        # Use a while loop to calculate the factorial\n",
        "        while i <= num:\n",
        "            factorial *= i\n",
        "            i += 1\n",
        "        print(f\"The factorial of {num} is: {factorial}\")\n"
      ],
      "metadata": {
        "colab": {
          "base_uri": "https://localhost:8080/"
        },
        "id": "prqJbE5anFGZ",
        "outputId": "fe6196ed-5715-4294-f5e2-c5b23c296332"
      },
      "execution_count": 25,
      "outputs": [
        {
          "output_type": "stream",
          "name": "stdout",
          "text": [
            "Enter a non-negative integer to calculate its factorial: 6\n",
            "The factorial of 6 is: 720\n"
          ]
        }
      ]
    }
  ]
}