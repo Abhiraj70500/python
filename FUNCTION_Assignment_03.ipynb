{
  "nbformat": 4,
  "nbformat_minor": 0,
  "metadata": {
    "colab": {
      "provenance": []
    },
    "kernelspec": {
      "name": "python3",
      "display_name": "Python 3"
    },
    "language_info": {
      "name": "python"
    }
  },
  "cells": [
    {
      "cell_type": "markdown",
      "source": [
        "# **THEORY QUESTIONS.**"
      ],
      "metadata": {
        "id": "SHEE65GY3R6k"
      }
    },
    {
      "cell_type": "markdown",
      "source": [
        "# 1. What is the difference between a function and a method in Python?"
      ],
      "metadata": {
        "id": "DDxQUb3C3nqJ"
      }
    },
    {
      "cell_type": "markdown",
      "source": [
        "# >> FUNCTION."
      ],
      "metadata": {
        "id": "zCMf_Ygg4QTx"
      }
    },
    {
      "cell_type": "markdown",
      "source": [
        "=> A function is a standalone block of code that performs a specific task.\n",
        "\n",
        "=> It is not bound to any object.\n",
        "\n",
        "=> Defined using the \"def\" keywords.\n",
        "\n",
        "=> Can be used independentaly of any object.\n",
        "\n"
      ],
      "metadata": {
        "id": "OUuAprrD4YPS"
      }
    },
    {
      "cell_type": "code",
      "source": [
        "# E.G ,\n",
        "def greet(name):\n",
        "  return f\"Hello, {name}!\"\n",
        "\n",
        "print(greet(\"Aman\"))"
      ],
      "metadata": {
        "colab": {
          "base_uri": "https://localhost:8080/"
        },
        "id": "LRnZdIQA46ew",
        "outputId": "bb4c82d1-f914-4f9e-b071-1271f583a9c0"
      },
      "execution_count": null,
      "outputs": [
        {
          "output_type": "stream",
          "name": "stdout",
          "text": [
            "Hello, Aman!\n"
          ]
        }
      ]
    },
    {
      "cell_type": "markdown",
      "source": [
        "# >> METHOD."
      ],
      "metadata": {
        "id": "d49mOQaa5iHe"
      }
    },
    {
      "cell_type": "markdown",
      "source": [
        "=> A method is a function is associated with an object.\n",
        "\n",
        "=> It is called on an object (using dot . notation).\n",
        "\n",
        "=> The first parameter is usually self (referring to the instance of thge class).\n",
        "\n",
        "=> Method can access and modify the objects's state."
      ],
      "metadata": {
        "id": "fVbIv0TT5tVX"
      }
    },
    {
      "cell_type": "code",
      "source": [
        "from os import name\n",
        "class person:\n",
        "  def __init__(self, name):\n",
        "    self.name = name\n",
        "\n",
        "  def greet(self):\n",
        "      return f\"Hello, {self.name}!\"\n",
        "\n",
        "p = person(\"Aman\")\n",
        "print(p.greet())\n",
        "\n",
        "\n",
        "\n"
      ],
      "metadata": {
        "colab": {
          "base_uri": "https://localhost:8080/"
        },
        "id": "ZeHDEqLF5TyE",
        "outputId": "9c210312-7344-4b51-8805-da732644d12e"
      },
      "execution_count": null,
      "outputs": [
        {
          "output_type": "stream",
          "name": "stdout",
          "text": [
            "Hello, Aman!\n"
          ]
        }
      ]
    },
    {
      "cell_type": "markdown",
      "source": [
        "# 2. Explain the concept of function arguments and parameters in Python."
      ],
      "metadata": {
        "id": "tfw2u29e7NVz"
      }
    },
    {
      "cell_type": "markdown",
      "source": [
        "# >> Parameters"
      ],
      "metadata": {
        "id": "kRproe0l7hn7"
      }
    },
    {
      "cell_type": "markdown",
      "source": [
        "=> Parameter are the placeholder listed in a function definition.\n",
        "\n",
        "=> They are the names used to receive values when the function is called."
      ],
      "metadata": {
        "id": "qjNpHJd87oEd"
      }
    },
    {
      "cell_type": "code",
      "source": [
        "# E.G ,\n",
        "def greet(name):\n",
        "  print(f\"Hello, {name}!\")"
      ],
      "metadata": {
        "id": "AV5UCzVx7K54"
      },
      "execution_count": null,
      "outputs": []
    },
    {
      "cell_type": "markdown",
      "source": [
        "# >> Arguments."
      ],
      "metadata": {
        "id": "NQF1EXph8ejv"
      }
    },
    {
      "cell_type": "markdown",
      "source": [
        "=> Arguments are the actual values you pass to a function when calling it.\n",
        "\n",
        "=> They are assigned to the parameters in the function definition."
      ],
      "metadata": {
        "id": "D6MCJo898mlR"
      }
    },
    {
      "cell_type": "code",
      "source": [
        "greet(\"Aman\")"
      ],
      "metadata": {
        "colab": {
          "base_uri": "https://localhost:8080/"
        },
        "id": "Ox5CANLg8KNP",
        "outputId": "77f6c3ba-4ad3-4f5f-d00d-cc8a8f53d843"
      },
      "execution_count": null,
      "outputs": [
        {
          "output_type": "stream",
          "name": "stdout",
          "text": [
            "Hello, Aman!\n"
          ]
        }
      ]
    },
    {
      "cell_type": "markdown",
      "source": [
        "# 3.  What are the different ways to define and call a function in Python?"
      ],
      "metadata": {
        "id": "VTfEn_CC8_-8"
      }
    },
    {
      "cell_type": "markdown",
      "source": [
        "=> 1. **STANDARD FUNCTION DEFINITION**\n",
        "\n",
        "   Use the def keywords to define a function with parameters."
      ],
      "metadata": {
        "id": "hCbpEJdc9Tcf"
      }
    },
    {
      "cell_type": "code",
      "source": [
        "def greet(name):\n",
        "  print(f\"Hello, {name}\")\n",
        "\n",
        "greet(\"Aman\")"
      ],
      "metadata": {
        "colab": {
          "base_uri": "https://localhost:8080/"
        },
        "id": "35BcqBMy9Soe",
        "outputId": "cd58c0d0-b8c1-4723-f500-d5d44f251ff4"
      },
      "execution_count": null,
      "outputs": [
        {
          "output_type": "stream",
          "name": "stdout",
          "text": [
            "Hello, Aman\n"
          ]
        }
      ]
    },
    {
      "cell_type": "markdown",
      "source": [
        "2. **FUNCTION WITH DEFAULT PARAMETERS**\n",
        "\n"
      ],
      "metadata": {
        "id": "8c4o2kLm9zl8"
      }
    },
    {
      "cell_type": "code",
      "source": [
        "def greet(name=\"Guest\"):\n",
        "  print(f\"Hello, {name}\")\n",
        "\n",
        "greet()\n",
        "greet(\"Aman\")"
      ],
      "metadata": {
        "colab": {
          "base_uri": "https://localhost:8080/"
        },
        "id": "xLxGDRM087rq",
        "outputId": "948134db-3cd3-4560-e19f-ea874200e3e2"
      },
      "execution_count": null,
      "outputs": [
        {
          "output_type": "stream",
          "name": "stdout",
          "text": [
            "Hello, Guest\n",
            "Hello, Aman\n"
          ]
        }
      ]
    },
    {
      "cell_type": "markdown",
      "source": [
        "# 4.What is the purpose of the `return` statement in a Python function?"
      ],
      "metadata": {
        "id": "aOwmj_Lk-eHH"
      }
    },
    {
      "cell_type": "markdown",
      "source": [
        "=> Purpose of the return statement is used to exit a function and send a value back to the caller."
      ],
      "metadata": {
        "id": "ibKvVFZ_-jDQ"
      }
    },
    {
      "cell_type": "code",
      "source": [
        "# E.G ,\n",
        "def add(a, b):\n",
        "  return a + b\n",
        "\n",
        "result = add(3, 4)\n",
        "print(result)"
      ],
      "metadata": {
        "colab": {
          "base_uri": "https://localhost:8080/"
        },
        "id": "CR2Yf-9L-YlR",
        "outputId": "177afcec-ce58-45ce-bd0a-e1ac90d6382d"
      },
      "execution_count": null,
      "outputs": [
        {
          "output_type": "stream",
          "name": "stdout",
          "text": [
            "7\n"
          ]
        }
      ]
    },
    {
      "cell_type": "markdown",
      "source": [
        "# 5.  What are iterators in Python and how do they differ from iterables?"
      ],
      "metadata": {
        "id": "XBipeVDm_YUL"
      }
    },
    {
      "cell_type": "markdown",
      "source": [
        "=> **ITERATOR** = An iterator is an object that keeps state and produces the next value when you call next() on it.\n",
        "\n",
        ">> Created using the iter() function.\n",
        "\n",
        ">> Implements two special methods:\n",
        "\n",
        ">> __iter__() returns the iterator object itself\n",
        "\n",
        ">> __next__() returns the next item or raises StopIteration"
      ],
      "metadata": {
        "id": "gmX_Qjm0_bMm"
      }
    },
    {
      "cell_type": "code",
      "source": [
        "my_list = [1, 2, 3]\n",
        "it = iter(my_list)\n",
        "\n",
        "print(next(it))\n",
        "print(next(it))\n",
        "print(next(it))"
      ],
      "metadata": {
        "colab": {
          "base_uri": "https://localhost:8080/"
        },
        "id": "3jeX6CjJ_REQ",
        "outputId": "dc935aa5-8f52-4639-d124-70b7bc37bad9"
      },
      "execution_count": null,
      "outputs": [
        {
          "output_type": "stream",
          "name": "stdout",
          "text": [
            "1\n",
            "2\n",
            "3\n"
          ]
        }
      ]
    },
    {
      "cell_type": "markdown",
      "source": [
        "=> An iterable is like a book - you can get an iterator from it.\n",
        "\n",
        "=> An iterator is like a bookmark - it remembers where you are in the book.\n"
      ],
      "metadata": {
        "id": "FsAJ1PvHBV8G"
      }
    },
    {
      "cell_type": "markdown",
      "source": [
        "# 6. Explain the concept of generators in Python and how they are defined."
      ],
      "metadata": {
        "id": "BOGE9hYAByiR"
      }
    },
    {
      "cell_type": "markdown",
      "source": [
        "=> A generator is a special type of iterator used to produce a sequence of values lazily, meaning one at a time and only when needed, rather than all at once.\n",
        "\n",
        "Generator are ideal for working with large databese or infinite sequences wgere storing all values in memory is inefficient."
      ],
      "metadata": {
        "id": "qBLYM503B69Y"
      }
    },
    {
      "cell_type": "code",
      "source": [
        "# E.G,\n",
        "def count_up_to(n):\n",
        "  i = 1\n",
        "  while i <= n:\n",
        "    yield i\n",
        "    i += 1\n",
        "\n",
        "gen = count_up_to(3)\n",
        "print(next(gen))\n",
        "print(next(gen))\n",
        "print(next(gen))"
      ],
      "metadata": {
        "colab": {
          "base_uri": "https://localhost:8080/"
        },
        "id": "P0Enzd5gBMp2",
        "outputId": "42809e01-5f78-491f-dfcd-101c0689fdfc"
      },
      "execution_count": null,
      "outputs": [
        {
          "output_type": "stream",
          "name": "stdout",
          "text": [
            "1\n",
            "2\n",
            "3\n"
          ]
        }
      ]
    },
    {
      "cell_type": "markdown",
      "source": [
        "# 7.What are the advantages of using generators over regular functions?"
      ],
      "metadata": {
        "id": "PrTWVb7UDSmV"
      }
    },
    {
      "cell_type": "markdown",
      "source": [
        "=> Generators in python offer several key advantages over regular functions-- especially when ypu're working with large database, streams of data, or need to optimize memory usage.\n",
        "\n",
        ">> **MEMORY EFFICIENCY**\n",
        "\n",
        ">> Generators do not store all values in memory.\n",
        "\n",
        ">> They produce values one at a time using yield."
      ],
      "metadata": {
        "id": "n1apM93BDcXv"
      }
    },
    {
      "cell_type": "code",
      "source": [
        "def gen_numbers():\n",
        "  for i in range (10**6):\n",
        "    yield i"
      ],
      "metadata": {
        "id": "fGA72sWEDNSs"
      },
      "execution_count": null,
      "outputs": []
    },
    {
      "cell_type": "code",
      "source": [
        "def list_number():\n",
        "  return [i for i in range (10**6)]"
      ],
      "metadata": {
        "id": "mvYW_WIGEkr4"
      },
      "execution_count": null,
      "outputs": []
    },
    {
      "cell_type": "markdown",
      "source": [
        ">> The generators uses almost no memory, while the regular function builds a hige list in memory."
      ],
      "metadata": {
        "id": "Xh6xfjs0Eyp5"
      }
    },
    {
      "cell_type": "markdown",
      "source": [
        "# 8. What is a lambda function in Python and when is it typically used?"
      ],
      "metadata": {
        "id": "fZON1qvjFCQV"
      }
    },
    {
      "cell_type": "markdown",
      "source": [
        "=> A lambda function is a small anonymous function in python, defined using the lambda keywords instead of def it's also known as a \"throwaway function\" or inline function."
      ],
      "metadata": {
        "id": "CnuTcsARFLFR"
      }
    },
    {
      "cell_type": "code",
      "source": [
        "# E.G,\n",
        "square = lambda x: x*x\n",
        "print(square(5))"
      ],
      "metadata": {
        "colab": {
          "base_uri": "https://localhost:8080/"
        },
        "id": "Zog1IVMvEvTf",
        "outputId": "75f2a6ce-227a-4c24-c449-03c254dcaa0e"
      },
      "execution_count": null,
      "outputs": [
        {
          "output_type": "stream",
          "name": "stdout",
          "text": [
            "25\n"
          ]
        }
      ]
    },
    {
      "cell_type": "markdown",
      "source": [
        ">> Lambda function is typically used in short-term or throewawy cases, especially when passing a function as an arguments."
      ],
      "metadata": {
        "id": "vFXhUPQmF9_k"
      }
    },
    {
      "cell_type": "markdown",
      "source": [
        "# 9.Explain the purpose and usage of the `map()` function in Python."
      ],
      "metadata": {
        "id": "E3c59gmsGTRM"
      }
    },
    {
      "cell_type": "markdown",
      "source": [
        "=> The map() function in python is used to apply a function to every time in an iterable (like a list, tuple e.t.c) and return a new map object (which is an iterator.)\n",
        "\n",
        ">> WHEN TO USE MAP():\n",
        "\n",
        ">> When you want to transform data in a clean and concise way.\n",
        "\n",
        ">> When using functional programming style.\n",
        "\n",
        ">> For elements-wise operations on collection."
      ],
      "metadata": {
        "id": "C2K9GJp6GkD7"
      }
    },
    {
      "cell_type": "markdown",
      "source": [
        "# 10. What is the difference between `map()`, `reduce()`, and `filter()` functions in Python?"
      ],
      "metadata": {
        "id": "0YlJO56THixq"
      }
    },
    {
      "cell_type": "markdown",
      "source": [
        "=> The function map(), reduce(),and filter() are build-in functional programming tools in python that operate on iterables. While they might seem similar, each has a distinct purpose:"
      ],
      "metadata": {
        "id": "fKGKeItfHvdl"
      }
    },
    {
      "cell_type": "markdown",
      "source": [
        "# 1. map()"
      ],
      "metadata": {
        "id": "S4CFvxi9IRSb"
      }
    },
    {
      "cell_type": "markdown",
      "source": [
        "Applies a function to each item in an iterable and returns a new iterable (map object) with the results."
      ],
      "metadata": {
        "id": "-i0BIw1pIW13"
      }
    },
    {
      "cell_type": "code",
      "source": [
        "# E.G,\n",
        "nums = [1, 2, 3, 4]\n",
        "squared = list(map(lambda x: x**2, nums))\n",
        "print(squared)"
      ],
      "metadata": {
        "colab": {
          "base_uri": "https://localhost:8080/"
        },
        "id": "FHdy4MpmIOFM",
        "outputId": "e2f9ed32-9b1e-4903-cfa5-b93367ef1b90"
      },
      "execution_count": null,
      "outputs": [
        {
          "output_type": "stream",
          "name": "stdout",
          "text": [
            "[1, 4, 9, 16]\n"
          ]
        }
      ]
    },
    {
      "cell_type": "markdown",
      "source": [
        "# 2. filter()"
      ],
      "metadata": {
        "id": "Aie8tTBwJDWr"
      }
    },
    {
      "cell_type": "markdown",
      "source": [
        "Filter items from an iterable based on a condition (function that returns True/False). Returns only the items for which the function returns true."
      ],
      "metadata": {
        "id": "DBJyvNTHJIP6"
      }
    },
    {
      "cell_type": "code",
      "source": [
        "# E.G,\n",
        "nums = [1, 2, 3, 4, 5]\n",
        "even = list(filter(lambda x: x % 2 == 0, nums))\n",
        "print(even)"
      ],
      "metadata": {
        "colab": {
          "base_uri": "https://localhost:8080/"
        },
        "id": "QNvKk3cCF56V",
        "outputId": "79a56252-37b6-489b-b61d-6f465b11e5ed"
      },
      "execution_count": null,
      "outputs": [
        {
          "output_type": "stream",
          "name": "stdout",
          "text": [
            "[2, 4]\n"
          ]
        }
      ]
    },
    {
      "cell_type": "markdown",
      "source": [
        "# 3. reduce()"
      ],
      "metadata": {
        "id": "4l-ASAL7Jxpz"
      }
    },
    {
      "cell_type": "markdown",
      "source": [
        "=> Reduces an iterable to a single cumulative value by applyting a function pairwise.\n",
        "\n",
        "it's not a build - in function -- you must import it from the function module."
      ],
      "metadata": {
        "id": "lTTopeZ0J2vQ"
      }
    },
    {
      "cell_type": "code",
      "source": [
        "# E.G,\n",
        "\n",
        "from functools import reduce\n",
        "\n",
        "nums = [1, 2, 3, 4]\n",
        "product = reduce(lambda x, y: x*y, nums)\n",
        "print(product)"
      ],
      "metadata": {
        "colab": {
          "base_uri": "https://localhost:8080/"
        },
        "id": "6FrOWi4jJv-7",
        "outputId": "f32e8b40-4634-4d3d-a38d-8b20a0b24582"
      },
      "execution_count": null,
      "outputs": [
        {
          "output_type": "stream",
          "name": "stdout",
          "text": [
            "24\n"
          ]
        }
      ]
    },
    {
      "cell_type": "markdown",
      "source": [
        "11. Using pen & Paper write the internal mechanism for sum operation using  reduce function on this given\n",
        "# list:[47,11,42,13];"
      ],
      "metadata": {
        "id": "NGPYBT46K1wG"
      }
    },
    {
      "cell_type": "code",
      "source": [
        "from functools import reduce\n",
        "\n",
        "numbers = [47, 11, 42, 13]\n",
        "reduce(lambda x, y: x + y, numbers)\n"
      ],
      "metadata": {
        "colab": {
          "base_uri": "https://localhost:8080/"
        },
        "id": "ENxZeIdLNddu",
        "outputId": "855b0f7d-b291-42d0-e513-ead75bbf4891"
      },
      "execution_count": 40,
      "outputs": [
        {
          "output_type": "execute_result",
          "data": {
            "text/plain": [
              "113"
            ]
          },
          "metadata": {},
          "execution_count": 40
        }
      ]
    },
    {
      "cell_type": "markdown",
      "source": [
        "# >> **PRACTICAL QUESTION**.."
      ],
      "metadata": {
        "id": "8TFpIbwQ7c1L"
      }
    },
    {
      "cell_type": "markdown",
      "source": [
        "# 1.Write a Python function that takes a list of numbers as input and returns the sum of all even numbers in the list."
      ],
      "metadata": {
        "id": "hMA_Z2aA7n7Q"
      }
    },
    {
      "cell_type": "code",
      "source": [
        "def sum_even_numbers(numbers):\n",
        "  even_sum = 0\n",
        "  for num in numbers:\n",
        "    if num % 2 == 0:\n",
        "      even_sum +=  num\n",
        "  return 'even_sum'"
      ],
      "metadata": {
        "id": "zyNaQcmF7maf"
      },
      "execution_count": 26,
      "outputs": []
    },
    {
      "cell_type": "code",
      "source": [
        "my_list = [1, 2, 3, 4, 5, 6]\n",
        "result = sum_even_numbers(my_list)\n",
        "print(\"Sum of even numbers:\", result)"
      ],
      "metadata": {
        "colab": {
          "base_uri": "https://localhost:8080/"
        },
        "id": "VFHpze839QDW",
        "outputId": "a26aa16c-fe8e-4d38-e4dd-bc67bf3ec149"
      },
      "execution_count": 27,
      "outputs": [
        {
          "output_type": "stream",
          "name": "stdout",
          "text": [
            "Sum of even numbers: even_sum\n"
          ]
        }
      ]
    },
    {
      "cell_type": "markdown",
      "source": [
        "# 2.Create a Python function that accepts a string and returns the reverse of that string.\n",
        "\n",
        "\n"
      ],
      "metadata": {
        "id": "qcBYhs5x-uXc"
      }
    },
    {
      "cell_type": "code",
      "source": [
        "def reverse_string(s):\n",
        "    return s[::-1]\n"
      ],
      "metadata": {
        "id": "4M28fyLLDue7"
      },
      "execution_count": 24,
      "outputs": []
    },
    {
      "cell_type": "code",
      "source": [
        "text = \"hello\"\n",
        "reversed_text = reverse_string(text)\n",
        "print(\"reversed string:\", reversed_text)"
      ],
      "metadata": {
        "colab": {
          "base_uri": "https://localhost:8080/"
        },
        "id": "1St6Pwwd9jYU",
        "outputId": "e1ae12a2-2ae6-44b9-8f65-753bfcc7fd50"
      },
      "execution_count": 25,
      "outputs": [
        {
          "output_type": "stream",
          "name": "stdout",
          "text": [
            "reversed string: olleh\n"
          ]
        }
      ]
    },
    {
      "cell_type": "markdown",
      "source": [
        "# 3.Implement a Python function that takes a list of integers and returns a new list containing the squares of each number."
      ],
      "metadata": {
        "id": "N7DMaIZyAVO7"
      }
    },
    {
      "cell_type": "code",
      "source": [
        "def square_numbers(numbers):\n",
        "    return [num ** 2 for num in numbers]\n"
      ],
      "metadata": {
        "id": "SlK8lYjwDqvj"
      },
      "execution_count": 22,
      "outputs": []
    },
    {
      "cell_type": "code",
      "source": [
        "my_list = [1, 2, 3, 4, 5,]\n",
        "squared_list = square_numbers(my_list)\n",
        "print(\"squared list:\", squared_list)"
      ],
      "metadata": {
        "colab": {
          "base_uri": "https://localhost:8080/"
        },
        "id": "MogBDEaqAHua",
        "outputId": "118a72d8-457a-4565-8fc5-55cb8b547f4b"
      },
      "execution_count": 23,
      "outputs": [
        {
          "output_type": "stream",
          "name": "stdout",
          "text": [
            "squared list: [1, 4, 9, 16, 25]\n"
          ]
        }
      ]
    },
    {
      "cell_type": "markdown",
      "source": [
        "# 4. Write a Python function that checks if a given number is prime or not from 1 to 200."
      ],
      "metadata": {
        "id": "m_ajeTMLBSNX"
      }
    },
    {
      "cell_type": "code",
      "source": [
        "def is_prime(n):\n",
        "    if n < 2 or n > 200:\n",
        "        return False  # Not in the valid range or not prime\n",
        "    for i in range(2, int(n**0.5) + 1):\n",
        "        if n % i == 0:\n",
        "            return False\n",
        "    return True\n"
      ],
      "metadata": {
        "id": "eR8PNBtjDmvG"
      },
      "execution_count": 20,
      "outputs": []
    },
    {
      "cell_type": "code",
      "source": [
        "for num in range(1, 201):\n",
        "    if is_prime(num):\n",
        "        print(num, \"is a prime number.\")\n"
      ],
      "metadata": {
        "colab": {
          "base_uri": "https://localhost:8080/"
        },
        "id": "lIM6qbtlBJY_",
        "outputId": "ffb32618-d480-4731-ed61-328179d4126f"
      },
      "execution_count": 21,
      "outputs": [
        {
          "output_type": "stream",
          "name": "stdout",
          "text": [
            "2 is a prime number.\n",
            "3 is a prime number.\n",
            "5 is a prime number.\n",
            "7 is a prime number.\n",
            "11 is a prime number.\n",
            "13 is a prime number.\n",
            "17 is a prime number.\n",
            "19 is a prime number.\n",
            "23 is a prime number.\n",
            "29 is a prime number.\n",
            "31 is a prime number.\n",
            "37 is a prime number.\n",
            "41 is a prime number.\n",
            "43 is a prime number.\n",
            "47 is a prime number.\n",
            "53 is a prime number.\n",
            "59 is a prime number.\n",
            "61 is a prime number.\n",
            "67 is a prime number.\n",
            "71 is a prime number.\n",
            "73 is a prime number.\n",
            "79 is a prime number.\n",
            "83 is a prime number.\n",
            "89 is a prime number.\n",
            "97 is a prime number.\n",
            "101 is a prime number.\n",
            "103 is a prime number.\n",
            "107 is a prime number.\n",
            "109 is a prime number.\n",
            "113 is a prime number.\n",
            "127 is a prime number.\n",
            "131 is a prime number.\n",
            "137 is a prime number.\n",
            "139 is a prime number.\n",
            "149 is a prime number.\n",
            "151 is a prime number.\n",
            "157 is a prime number.\n",
            "163 is a prime number.\n",
            "167 is a prime number.\n",
            "173 is a prime number.\n",
            "179 is a prime number.\n",
            "181 is a prime number.\n",
            "191 is a prime number.\n",
            "193 is a prime number.\n",
            "197 is a prime number.\n",
            "199 is a prime number.\n"
          ]
        }
      ]
    },
    {
      "cell_type": "markdown",
      "source": [
        "# 5.Create an iterator class in Python that generates the Fibonacci sequence up to a specified number of terms."
      ],
      "metadata": {
        "id": "Pj2fzC1NBxW-"
      }
    },
    {
      "cell_type": "code",
      "source": [
        "class FibonacciIterator:\n",
        "    def __init__(self, max_terms):\n",
        "        self.max_terms = max_terms\n",
        "        self.count = 0\n",
        "        self.a, self.b = 0, 1\n",
        "\n",
        "    def __iter__(self):\n",
        "        return self\n",
        "\n",
        "    def __next__(self):\n",
        "        if self.count >= self.max_terms:\n",
        "            raise StopIteration\n",
        "        if self.count == 0:\n",
        "            self.count += 1\n",
        "            return 0\n",
        "        elif self.count == 1:\n",
        "            self.count += 1\n",
        "            return 1\n",
        "        else:\n",
        "            self.a, self.b = self.b, self.a + self.b\n",
        "            self.count += 1\n",
        "            return self.a\n"
      ],
      "metadata": {
        "id": "oThastMjDetD"
      },
      "execution_count": 18,
      "outputs": []
    },
    {
      "cell_type": "code",
      "source": [
        "fib = FibonacciIterator(10)\n",
        "for num in fib:\n",
        "    print(num)\n"
      ],
      "metadata": {
        "colab": {
          "base_uri": "https://localhost:8080/"
        },
        "id": "WGkZblvhBs6p",
        "outputId": "0585fa07-c762-40a6-c94b-81ab8dd423f7"
      },
      "execution_count": 19,
      "outputs": [
        {
          "output_type": "stream",
          "name": "stdout",
          "text": [
            "0\n",
            "1\n",
            "1\n",
            "1\n",
            "2\n",
            "3\n",
            "5\n",
            "8\n",
            "13\n",
            "21\n"
          ]
        }
      ]
    },
    {
      "cell_type": "markdown",
      "source": [
        "# 6.Write a generator function in Python that yields the powers of 2 up to a given exponent."
      ],
      "metadata": {
        "id": "1zfQpYEfCma4"
      }
    },
    {
      "cell_type": "code",
      "source": [
        "def powers_of_two(max_exponent):\n",
        "    for i in range(max_exponent + 1):\n",
        "        yield 2 ** i\n"
      ],
      "metadata": {
        "id": "Dqh6vvwwDZ5f"
      },
      "execution_count": 16,
      "outputs": []
    },
    {
      "cell_type": "code",
      "source": [
        "for power in powers_of_two(5):\n",
        "    print(power)\n"
      ],
      "metadata": {
        "colab": {
          "base_uri": "https://localhost:8080/"
        },
        "id": "IK5CVZSJChM8",
        "outputId": "09196320-81a1-4017-e2de-f54ef1110d18"
      },
      "execution_count": 17,
      "outputs": [
        {
          "output_type": "stream",
          "name": "stdout",
          "text": [
            "1\n",
            "2\n",
            "4\n",
            "8\n",
            "16\n",
            "32\n"
          ]
        }
      ]
    },
    {
      "cell_type": "markdown",
      "source": [
        "# 7.Implement a generator function that reads a file line by line and yields each line as a string."
      ],
      "metadata": {
        "id": "XgIq4b1AEBDF"
      }
    },
    {
      "cell_type": "code",
      "source": [
        "def read_file_lines(file_path):\n",
        "    with open(file_path, 'r') as file:\n",
        "        for line in file:\n",
        "            yield line.strip()\n"
      ],
      "metadata": {
        "id": "BzAPMdYVDcS3"
      },
      "execution_count": 33,
      "outputs": []
    },
    {
      "cell_type": "code",
      "source": [
        "for line in read_file_lines('example.txt'):\n",
        "    print(line)\n"
      ],
      "metadata": {
        "colab": {
          "base_uri": "https://localhost:8080/",
          "height": 263
        },
        "id": "q2fyGQFaESUu",
        "outputId": "6aeef515-171b-4958-fbf1-04f35996c491"
      },
      "execution_count": 34,
      "outputs": [
        {
          "output_type": "error",
          "ename": "FileNotFoundError",
          "evalue": "[Errno 2] No such file or directory: 'example.txt'",
          "traceback": [
            "\u001b[0;31m---------------------------------------------------------------------------\u001b[0m",
            "\u001b[0;31mFileNotFoundError\u001b[0m                         Traceback (most recent call last)",
            "\u001b[0;32m/tmp/ipython-input-34-2759855196.py\u001b[0m in \u001b[0;36m<cell line: 0>\u001b[0;34m()\u001b[0m\n\u001b[0;32m----> 1\u001b[0;31m \u001b[0;32mfor\u001b[0m \u001b[0mline\u001b[0m \u001b[0;32min\u001b[0m \u001b[0mread_file_lines\u001b[0m\u001b[0;34m(\u001b[0m\u001b[0;34m'example.txt'\u001b[0m\u001b[0;34m)\u001b[0m\u001b[0;34m:\u001b[0m\u001b[0;34m\u001b[0m\u001b[0;34m\u001b[0m\u001b[0m\n\u001b[0m\u001b[1;32m      2\u001b[0m     \u001b[0mprint\u001b[0m\u001b[0;34m(\u001b[0m\u001b[0mline\u001b[0m\u001b[0;34m)\u001b[0m\u001b[0;34m\u001b[0m\u001b[0;34m\u001b[0m\u001b[0m\n",
            "\u001b[0;32m/tmp/ipython-input-33-1180589305.py\u001b[0m in \u001b[0;36mread_file_lines\u001b[0;34m(file_path)\u001b[0m\n\u001b[1;32m      1\u001b[0m \u001b[0;32mdef\u001b[0m \u001b[0mread_file_lines\u001b[0m\u001b[0;34m(\u001b[0m\u001b[0mfile_path\u001b[0m\u001b[0;34m)\u001b[0m\u001b[0;34m:\u001b[0m\u001b[0;34m\u001b[0m\u001b[0;34m\u001b[0m\u001b[0m\n\u001b[0;32m----> 2\u001b[0;31m     \u001b[0;32mwith\u001b[0m \u001b[0mopen\u001b[0m\u001b[0;34m(\u001b[0m\u001b[0mfile_path\u001b[0m\u001b[0;34m,\u001b[0m \u001b[0;34m'r'\u001b[0m\u001b[0;34m)\u001b[0m \u001b[0;32mas\u001b[0m \u001b[0mfile\u001b[0m\u001b[0;34m:\u001b[0m\u001b[0;34m\u001b[0m\u001b[0;34m\u001b[0m\u001b[0m\n\u001b[0m\u001b[1;32m      3\u001b[0m         \u001b[0;32mfor\u001b[0m \u001b[0mline\u001b[0m \u001b[0;32min\u001b[0m \u001b[0mfile\u001b[0m\u001b[0;34m:\u001b[0m\u001b[0;34m\u001b[0m\u001b[0;34m\u001b[0m\u001b[0m\n\u001b[1;32m      4\u001b[0m             \u001b[0;32myield\u001b[0m \u001b[0mline\u001b[0m\u001b[0;34m.\u001b[0m\u001b[0mstrip\u001b[0m\u001b[0;34m(\u001b[0m\u001b[0;34m)\u001b[0m\u001b[0;34m\u001b[0m\u001b[0;34m\u001b[0m\u001b[0m\n",
            "\u001b[0;31mFileNotFoundError\u001b[0m: [Errno 2] No such file or directory: 'example.txt'"
          ]
        }
      ]
    },
    {
      "cell_type": "markdown",
      "source": [
        "# 8. Use a lambda function in Python to sort a list of tuples based on the second element of each tuple"
      ],
      "metadata": {
        "id": "7w6UHYZDEreY"
      }
    },
    {
      "cell_type": "code",
      "source": [
        "data = [(1, 3), (4, 1), (2, 5), (6, 2)]\n",
        "\n",
        "sorted_data = sorted(data, key=lambda x: x[1])\n",
        "\n",
        "print(\"sorted data\", sorted_data)"
      ],
      "metadata": {
        "colab": {
          "base_uri": "https://localhost:8080/"
        },
        "id": "VBXENbAOEYB_",
        "outputId": "69ad95b4-22a5-4d83-aedb-abe942a95c7d"
      },
      "execution_count": 36,
      "outputs": [
        {
          "output_type": "stream",
          "name": "stdout",
          "text": [
            "sorted data [(4, 1), (6, 2), (1, 3), (2, 5)]\n"
          ]
        }
      ]
    },
    {
      "cell_type": "markdown",
      "source": [
        "# 9.Write a Python program that uses `map()` to convert a list of temperatures from Celsius to Fahrenheit."
      ],
      "metadata": {
        "id": "CfPkRmhpFjjs"
      }
    },
    {
      "cell_type": "code",
      "source": [
        "celsius_temps = [0, 20, 37, 100]\n",
        "\n",
        "fahrenheit_temps = list(map(lambda c: (c * 9/5) + 32, celsius_temps))\n",
        "\n",
        "print(\"temperature in fahrenheit:\", fahrenheit_temps)"
      ],
      "metadata": {
        "colab": {
          "base_uri": "https://localhost:8080/"
        },
        "id": "QFRUdYqaFYeg",
        "outputId": "b233a784-dffe-477b-da1e-1623ec8736e7"
      },
      "execution_count": 37,
      "outputs": [
        {
          "output_type": "stream",
          "name": "stdout",
          "text": [
            "temperature in fahrenheit: [32.0, 68.0, 98.6, 212.0]\n"
          ]
        }
      ]
    },
    {
      "cell_type": "markdown",
      "source": [
        "# 10. Create a Python program that uses `filter()` to remove all the vowels from a given string."
      ],
      "metadata": {
        "id": "ujBAMyc2GiB8"
      }
    },
    {
      "cell_type": "code",
      "source": [
        "def remove_vowels(input_str):\n",
        "    vowels = 'aeiouAEIOU'\n",
        "    return ''.join(filter(lambda ch: ch not in vowels, input_str))\n",
        "\n",
        "# Example usage\n",
        "text = \"Hello World\"\n",
        "no_vowels = remove_vowels(text)\n",
        "print(\"String without vowels:\", no_vowels)\n"
      ],
      "metadata": {
        "colab": {
          "base_uri": "https://localhost:8080/"
        },
        "id": "GMgJ-fLeGdbI",
        "outputId": "47653552-45fd-4476-eb13-651c70f57a5d"
      },
      "execution_count": 38,
      "outputs": [
        {
          "output_type": "stream",
          "name": "stdout",
          "text": [
            "String without vowels: Hll Wrld\n"
          ]
        }
      ]
    },
    {
      "cell_type": "markdown",
      "source": [
        " Imagine an accounting routine used in a book shop. It works on a list with sublists, which look like this:\n",
        "\n",
        " order number        book title and author                quantity\n",
        "\n",
        " 34587               learning python, mark lutz                4\n",
        "                 \n",
        " 98762               programming python, mark lutz             5\n",
        "                                   \n",
        " 77226               head first python, paul barry             3\n",
        "\n",
        " 88112               einfuhrung in python3, bernd klein        3\n",
        "\n",
        "\n",
        "\n",
        "\n",
        "\n",
        "Write a Python program, which returns a list with 2-tuples. Each tuple consists of the order number and the\n",
        "product of the price per item and the quantity. The product should be increased by 10,- € if the value of the\n",
        "order is smaller than 100,00 €.\n",
        "\n",
        "Write a Python program using lambda and map."
      ],
      "metadata": {
        "id": "uOWrgL7QHVoX"
      }
    },
    {
      "cell_type": "code",
      "source": [
        "orders = [\n",
        "    [34587, \"Learning Python, Mark Lutz\", 4],\n",
        "    [98762, \"Programming Python, Mark Lutz\", 5],\n",
        "    [77226, \"Head First Python, Paul Barry\", 3],\n",
        "    [88112, \"Einfuhrung in Python3, Bernd Klein\", 3]\n",
        "]\n",
        "\n",
        "price_per_item = 45.00\n",
        "\n",
        "# Use lambda + map\n",
        "result = list(map(lambda order: (\n",
        "    order[0],\n",
        "    order[2] * price_per_item if order[2] * price_per_item >= 100 else order[2] * price_per_item + 10\n",
        "), orders))\n",
        "\n",
        "print(result)\n"
      ],
      "metadata": {
        "colab": {
          "base_uri": "https://localhost:8080/"
        },
        "id": "ErA8vKu-GtFQ",
        "outputId": "9a5cd297-4ff8-4075-99e8-869e54ac8f75"
      },
      "execution_count": 39,
      "outputs": [
        {
          "output_type": "stream",
          "name": "stdout",
          "text": [
            "[(34587, 180.0), (98762, 225.0), (77226, 135.0), (88112, 135.0)]\n"
          ]
        }
      ]
    },
    {
      "cell_type": "code",
      "source": [],
      "metadata": {
        "id": "QS7o5jvlJWJH"
      },
      "execution_count": null,
      "outputs": []
    }
  ]
}